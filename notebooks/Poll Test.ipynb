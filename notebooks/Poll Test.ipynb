{
 "cells": [
  {
   "cell_type": "markdown",
   "id": "6523c126",
   "metadata": {},
   "source": [
    "# Poll Test"
   ]
  },
  {
   "cell_type": "code",
   "execution_count": 9,
   "id": "56ddb7a1",
   "metadata": {},
   "outputs": [],
   "source": [
    "def poll():\n",
    "    print(\"Let's start this poll!\")\n",
    "    question_1 = input(\"What is your age? \")\n",
    "    question_2 = input(\"What is your favourite brand? \")\n",
    "    question_3 = input(\"Do you mostly shop online or offline? \")\n",
    "    print(\"Thank you for your time!\")"
   ]
  },
  {
   "cell_type": "code",
   "execution_count": 10,
   "id": "38246b22",
   "metadata": {},
   "outputs": [
    {
     "name": "stdout",
     "output_type": "stream",
     "text": [
      "Let's start this poll!\n",
      "What is your age? 31\n",
      "What is your favourite brand? Apple\n",
      "Do you mostly shop online or offline? online\n",
      "Thank you for your time!\n"
     ]
    }
   ],
   "source": [
    "poll()"
   ]
  },
  {
   "cell_type": "code",
   "execution_count": null,
   "id": "969facbf",
   "metadata": {},
   "outputs": [],
   "source": []
  },
  {
   "cell_type": "code",
   "execution_count": null,
   "id": "db743fd3",
   "metadata": {},
   "outputs": [],
   "source": []
  },
  {
   "cell_type": "code",
   "execution_count": null,
   "id": "84a52797",
   "metadata": {},
   "outputs": [],
   "source": []
  },
  {
   "cell_type": "code",
   "execution_count": null,
   "id": "d7d4dfcb",
   "metadata": {},
   "outputs": [],
   "source": []
  }
 ],
 "metadata": {
  "kernelspec": {
   "display_name": "Python 3 (ipykernel)",
   "language": "python",
   "name": "python3"
  },
  "language_info": {
   "codemirror_mode": {
    "name": "ipython",
    "version": 3
   },
   "file_extension": ".py",
   "mimetype": "text/x-python",
   "name": "python",
   "nbconvert_exporter": "python",
   "pygments_lexer": "ipython3",
   "version": "3.8.12"
  },
  "toc": {
   "base_numbering": 1,
   "nav_menu": {},
   "number_sections": true,
   "sideBar": true,
   "skip_h1_title": false,
   "title_cell": "Table of Contents",
   "title_sidebar": "Contents",
   "toc_cell": false,
   "toc_position": {},
   "toc_section_display": true,
   "toc_window_display": false
  }
 },
 "nbformat": 4,
 "nbformat_minor": 5
}
